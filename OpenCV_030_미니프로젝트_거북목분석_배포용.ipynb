{
 "cells": [
  {
   "cell_type": "markdown",
   "id": "48de9623",
   "metadata": {},
   "source": [
    "<img src=\"./lecture_image/00_title.png\">"
   ]
  },
  {
   "cell_type": "markdown",
   "id": "f6130b7d",
   "metadata": {},
   "source": [
    "<table border=1 width=100%>\n",
    "    <tr><td style=\"border: 1px solid black; width:600px; height:30px; text-align: center;\"><font size=4 color=blue><b>[30차시] 학습목표</b></font></td></tr>       \n",
    "    <tr><td style=\"border: 1px solid black; text-align: left;\"><font size=3>\n",
    "        \n",
    "○ Mediapipe 라이브러리를 이용하여 스켈레톤을 추출할 수 있다 <br><br>\n",
    "○ 추출된 스켈레톤을 이용하여 거북목을 판별할 수 있다 </font></td></tr>   \n",
    "</table>"
   ]
  },
  {
   "cell_type": "markdown",
   "id": "a23e4a1e",
   "metadata": {},
   "source": [
    "# 자세 분석\n",
    "\n",
    "- WorkFlow\n",
    "  - 각도를 확인할 관심 지점(랜드마크) 검색\n",
    "  - 표준 샘플 이미지(옆면 이미지)에 대한 분석 수행\n",
    "  - 좋은 자세와 나쁜 자세에 대한 임계값 범위를 검색\n",
    "  - 영상에 적용하기\n",
    "  \n",
    "<img src=\"./lecture_image/30_MediaPipe-pose-application.png\" width=70%>  \n",
    "\n",
    "- 최종 결과\n",
    "\n",
    "<img src=\"./lecture_image/30_final_result.png\" width=70%>"
   ]
  },
  {
   "cell_type": "code",
   "execution_count": 1,
   "id": "5ce10223",
   "metadata": {},
   "outputs": [],
   "source": [
    "# 라이브러리 등록"
   ]
  },
  {
   "cell_type": "markdown",
   "id": "2524759d",
   "metadata": {},
   "source": [
    "- 오프셋 거리 계산\n",
    "  - 측면보기 상태에서 두 포인트 (눈, 어깨, 골반) 사이의 거리를 계산\n",
    "  \n",
    "\\begin{align}\n",
    "distance =  \\sqrt{(x2 - x1)^2+(y2 - y1)^2}\n",
    "\\end{align}"
   ]
  },
  {
   "cell_type": "code",
   "execution_count": 2,
   "id": "1b0004b5",
   "metadata": {},
   "outputs": [],
   "source": [
    "# 오프셋 거리 계산"
   ]
  },
  {
   "cell_type": "markdown",
   "id": "d6514c61",
   "metadata": {},
   "source": [
    "- 관심 선에서 y축으로 종속된 각도 계산\n",
    "\n",
    "<img src=\"./lecture_image/30_calculate_arc.jpg\" width=40%>\n",
    "\n",
    "\\begin{align}\n",
    "\\theta = \\arccos (\\frac{\\vec{P_{12}}.\\vec{P_{13}}}{|\\vec{P_{12}}|.|\\vec{P_{13}}|})\n",
    "= \\arccos (\\frac{y_1^2 - y_1.y_2}{y_1\\sqrt{(x_2 - x_1)^2 + (y_2 - y_1)^2}})\n",
    "\\end{align}"
   ]
  },
  {
   "cell_type": "code",
   "execution_count": 3,
   "id": "374220f0",
   "metadata": {},
   "outputs": [],
   "source": [
    "# 각도 계산"
   ]
  },
  {
   "cell_type": "code",
   "execution_count": 4,
   "id": "1ad8af4d",
   "metadata": {},
   "outputs": [],
   "source": [
    "# 프레임 카운터 초기화, 폰트설정, 색상 설정"
   ]
  },
  {
   "cell_type": "code",
   "execution_count": 15,
   "id": "85307ca7",
   "metadata": {},
   "outputs": [
    {
     "name": "stdout",
     "output_type": "stream",
     "text": [
      "Processing..\n",
      "Finished.\n"
     ]
    }
   ],
   "source": [
    "# 구현 (흐름도 참고)\n",
    "# (1) 프레임 이미지 읽기\n",
    "   \n",
    "# (2) RGB 변환\n",
    "\n",
    "# (3) 포즈 검출\n",
    "\n",
    "# (4) 랜드마크 계산\n",
    " \n",
    "# (5) 왼쪽 어깨점와 오른쪽 어깨점들 간의 거리를 계산\n",
    "        \n",
    "# (6) 왼쪽과 오른쪽 어깨점의 차이가 100이하이면 offset값 출력\n",
    "#     - 100이이면 Aligned, 이상이면 Not Aligned 표시\n",
    "\n",
    "# (7) 랜드 마크점을 노란색 원으로 그린다\n",
    "\n",
    "# (8) 눈-어깨, 어깨-골반 간의 각도 계산\n",
    "    \n",
    "# (9) 눈-어깨의 각도가 40도 이하, 어깨-골반의 각도가 10도 이하인 경우\n",
    "#    - 나쁜 자세이면 각도와 경고 표시, 좋은 자세이면 각도와 정상 표시\n",
    "\n",
    "# (10) 특정 자세 (좋은 자세, 나쁜 자세) 유지 시간 계산\n",
    "\n",
    "# (11) 특정 자세 유지 시간 출력\n",
    "\n",
    "# (12) 나쁜 자세가 180초 이상이면 알림을 주는 기능 (실습)\n"
   ]
  },
  {
   "cell_type": "markdown",
   "id": "8c0e4535",
   "metadata": {},
   "source": [
    "<table border=1 width=100%>\n",
    "    <tr><td style=\"border: 1px solid black; width:600px; height:40px; text-align: center;\"><font size=4 color=blue><b>[30차시] 정리하기</b></font></td></tr>       \n",
    "    <tr><td style=\"border: 1px solid black; text-align: left;\"><font size=3>○            \n",
    "        </font></td></tr>   \n",
    "</table>"
   ]
  }
 ],
 "metadata": {
  "hide_input": false,
  "kernelspec": {
   "display_name": "Python 3 (ipykernel)",
   "language": "python",
   "name": "python3"
  },
  "language_info": {
   "codemirror_mode": {
    "name": "ipython",
    "version": 3
   },
   "file_extension": ".py",
   "mimetype": "text/x-python",
   "name": "python",
   "nbconvert_exporter": "python",
   "pygments_lexer": "ipython3",
   "version": "3.7.13"
  },
  "toc": {
   "base_numbering": 1,
   "nav_menu": {},
   "number_sections": true,
   "sideBar": true,
   "skip_h1_title": false,
   "title_cell": "Table of Contents",
   "title_sidebar": "Contents",
   "toc_cell": false,
   "toc_position": {},
   "toc_section_display": true,
   "toc_window_display": false
  }
 },
 "nbformat": 4,
 "nbformat_minor": 5
}
