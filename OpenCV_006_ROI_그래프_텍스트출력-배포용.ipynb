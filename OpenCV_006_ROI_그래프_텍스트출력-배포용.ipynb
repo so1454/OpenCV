{
 "cells": [
  {
   "cell_type": "markdown",
   "metadata": {},
   "source": [
    "<img src=\"./lecture_image/00_title.png\">"
   ]
  },
  {
   "cell_type": "markdown",
   "metadata": {},
   "source": [
    "<table border=1 width=100%>\n",
    "    <tr><td style=\"border: 1px solid black; width:600px; height:40px; text-align: center;\"><font size=4 color=blue><b>[6차시] 학습목표</b></font></td></tr>       \n",
    "    <tr><td style=\"border: 1px solid black; text-align: left;\"><font size=3>\n",
    "        \n",
    "○ ROI (Region of Image)를 자르고 표시하는 방법에 대해 학습한다.<br>\n",
    "○ 한글을 출력하는 방법에 대해 학습한다.<br>\n",
    "○ 비트 연산으로 이미지를 합성하는 방법을 학습한다.\n",
    "\n",
    "</font></td></tr>   \n",
    "</table>"
   ]
  },
  {
   "cell_type": "markdown",
   "metadata": {
    "id": "XF6Iua5YcJzO"
   },
   "source": [
    "# 픽셀/블록 기반 이미지 처리\n",
    "\n",
    "## ROI (Region of Image) 자르기\n",
    "\n",
    "- ROI (Region of Image) \n",
    "   - 관심영역 - 이미지에 우리가 필요한 부분 (얼굴, 눈 ...)\n",
    "   \n",
    "<img src=\"./lecture_image/06_roi.png\" width=30%>  \n",
    "\n",
    "\n",
    "- <font color=red>img[200:370, 200:350]</font>\n",
    "\n",
    "<img src=\"./lecture_image/06_roi2.png\" width=60%>  \n"
   ]
  },
  {
   "cell_type": "code",
   "execution_count": 10,
   "metadata": {
    "id": "S5RdF2WAhInZ"
   },
   "outputs": [],
   "source": [
    "#실습"
   ]
  },
  {
   "cell_type": "markdown",
   "metadata": {
    "id": "CVRB9KfjcJzZ"
   },
   "source": [
    "## ROI에 도형 그리기\n",
    "\n",
    "- <font color=red>cv2.line(배경이미지, 시작점좌표, 끝점좌표, 색상, 선두께)</font> : 직선 그리기\n",
    "\n",
    "<img src=\"./lecture_image/06_line.png\" width=40%>  "
   ]
  },
  {
   "cell_type": "code",
   "execution_count": 9,
   "metadata": {
    "id": "OfecInd6cJza"
   },
   "outputs": [],
   "source": [
    "#실습"
   ]
  },
  {
   "cell_type": "markdown",
   "metadata": {},
   "source": [
    "- <font color=red>cv2.circle(배경이미지, 중심좌표, 반지름, 색상, 선두께)</font> : 원 그리기\n",
    "\n",
    "<img src=\"./lecture_image/06_circle.png\" width=20%>  "
   ]
  },
  {
   "cell_type": "code",
   "execution_count": 8,
   "metadata": {},
   "outputs": [],
   "source": [
    "#실습"
   ]
  },
  {
   "cell_type": "markdown",
   "metadata": {},
   "source": [
    "- <font color=red>cv2.rectangle(배경이미지, 좌상단점좌표, 우하단점좌표, 색상, 선두께)</font> : 사각형 그리기\n",
    "\n",
    "<img src=\"./lecture_image/06_rectangle.png\" width=30%>  "
   ]
  },
  {
   "cell_type": "code",
   "execution_count": 7,
   "metadata": {},
   "outputs": [],
   "source": [
    "#실습"
   ]
  },
  {
   "cell_type": "markdown",
   "metadata": {},
   "source": [
    "- <font color=red>cv2.ellipse(배경이미지, 중심좌표, 장축/단축 반지름, 기울기, 호의시작각, 호의 종료각, 색상, 선두께)</font> : 타원 그리기\n",
    "\n",
    "<img src=\"./lecture_image/06_ellipse.png\" width=30%>  "
   ]
  },
  {
   "cell_type": "code",
   "execution_count": 6,
   "metadata": {},
   "outputs": [],
   "source": [
    "#실습"
   ]
  },
  {
   "cell_type": "markdown",
   "metadata": {},
   "source": [
    "- <font color=red>cv2.putText(배경이미지, 출력내용, 출력시작좌표, 폰트, 크기, 색상, 굵기)</font> : 텍스트 그리기\n",
    "\n",
    "<img src=\"./lecture_image/06_text.png\" width=30%>  "
   ]
  },
  {
   "cell_type": "code",
   "execution_count": 5,
   "metadata": {},
   "outputs": [],
   "source": [
    "#실습"
   ]
  },
  {
   "cell_type": "markdown",
   "metadata": {},
   "source": [
    "<table border=1 width=100%>\n",
    "    <tr><td style=\"border: 1px solid black; width:600px; text-align: left;\"><font size=4 color=red><b>실습문제</b></font><br><br>\n",
    "        <font size=4>○ 다음과 같이 이미지에 ROI 영역을 표시하고 이름을 출력해보자.</font></td></tr>       \n",
    "    <tr><td style=\"border: 1px solid black; text-align: left;\">\n",
    "        <img src=\"./lecture_image/06_ryan.png\" width=20%></td></tr>   \n",
    "</table>"
   ]
  },
  {
   "cell_type": "markdown",
   "metadata": {
    "id": "s6lzUIDicJzd"
   },
   "source": [
    "## 한글 출력하기\n",
    "\n",
    "- c:/Windows/Fonts 폴더에서 사용할 폰트를 현재 폴더에 fonts 폴더를 생성하고 복사한다\n",
    "\n",
    "\n",
    "- <font color=red>font = ImageFont.truetype(\"fonts/gulim.ttc\", 30)</font> : 사용할 폰트와 크기를 가져온다\n",
    "\n",
    "- <font color=red>img_pil = Image.fromarray(img)</font> : array 이미지를 PIL 이미지로 변환\n",
    "\n",
    "- <font color=red>draw = ImageDraw.Draw(img_pil)</font> : PIL 이미지를 그림\n",
    "\n",
    "- <font color=red>draw.text((200, 20), \"레나 이미지\", font=font, fill=(0, 0, 255, 0))</font> : 이미지에 텍스트를 그림\n",
    "\n",
    "- <font color=red>img = np.array(img_pil)</font> : PIL 이미지를 numpy 배열로 변환"
   ]
  },
  {
   "cell_type": "code",
   "execution_count": 4,
   "metadata": {
    "id": "FSVliqYIcJzd"
   },
   "outputs": [],
   "source": [
    "#실습"
   ]
  },
  {
   "cell_type": "markdown",
   "metadata": {},
   "source": [
    "<table border=1 width=100%>\n",
    "    <tr><td style=\"border: 1px solid black; width:600px; text-align: left;\"><font size=4 color=red><b>실습문제</b></font><br><br>\n",
    "        <font size=4>○ 다음과 같이 다른 폰트의 한글을 출력해보자.</font></td></tr>       \n",
    "    <tr><td style=\"border: 1px solid black; text-align: left;\">\n",
    "        <img src=\"./lecture_image/06_ryan2.png\" width=20%></td></tr>   \n",
    "</table>"
   ]
  },
  {
   "cell_type": "markdown",
   "metadata": {
    "id": "_y6WNM2scJzk"
   },
   "source": [
    "# 이미지 합성하기\n",
    "\n",
    "## 비트 연산을 이용해서 합성하기"
   ]
  },
  {
   "cell_type": "code",
   "execution_count": 2,
   "metadata": {
    "id": "xq2eXOo5cJzk"
   },
   "outputs": [],
   "source": [
    "#실습"
   ]
  },
  {
   "cell_type": "code",
   "execution_count": 1,
   "metadata": {},
   "outputs": [],
   "source": [
    "#실습"
   ]
  },
  {
   "cell_type": "markdown",
   "metadata": {},
   "source": [
    "- <font color=red>cv2.bitwise_not(mask)</font>\n",
    "  - mask는 흑백이미지여야 함\n",
    "  - 0을 255로 255롤 0으로 변환 (반전)"
   ]
  },
  {
   "cell_type": "code",
   "execution_count": 3,
   "metadata": {},
   "outputs": [],
   "source": [
    "#실습"
   ]
  },
  {
   "cell_type": "markdown",
   "metadata": {},
   "source": [
    "- <font color=red>cv2.bitwise_and(src1, src2, mask)></font> : mask의 값이 아닌 부분만 src1과 src2를 AND 연산\n",
    "  - mask는 흑백이미지여야 함\n",
    "  - mask 값이 0인 부분 (검정)은 연산되지 않고 검정색 부분 그대로 놓여짐"
   ]
  },
  {
   "cell_type": "code",
   "execution_count": 11,
   "metadata": {},
   "outputs": [],
   "source": [
    "#실습"
   ]
  },
  {
   "cell_type": "code",
   "execution_count": 12,
   "metadata": {},
   "outputs": [],
   "source": [
    "#실습"
   ]
  },
  {
   "cell_type": "code",
   "execution_count": 13,
   "metadata": {},
   "outputs": [],
   "source": [
    "#실습"
   ]
  },
  {
   "cell_type": "markdown",
   "metadata": {},
   "source": [
    "<table border=1>\n",
    "    <tr><td colspan=3 style=\"border: 1px solid black; width:600px; text-align: left;\">\n",
    "        <font size=4 color=red><b>실습문제</b></font><br><br>\n",
    "        <font size=2>○ 다음과 같이 2개의 이미지를 합성해보자.</font></td></tr> \n",
    "    <tr>\n",
    "        <td style=\"border: 1px solid black;\">\n",
    "        <img src=\"./lecture_image/06_ryan_cap2.png\" width=80%></td>        \n",
    "    </tr>       \n",
    "</table>"
   ]
  },
  {
   "cell_type": "markdown",
   "metadata": {},
   "source": [
    "<table border=1 width=100%>\n",
    "    <tr><td style=\"border: 1px solid black; width:600px; height:40px; text-align: center;\"><font size=4 color=blue><b>[6차시] 정리하기</b></font></td></tr>       \n",
    "    <tr><td style=\"border: 1px solid black; text-align: left;\"><font size=2>\n",
    "○ ROI (Region of Image) : 관심영역을 의미<br>\n",
    "○ line() - 선그리기<br> \n",
    "○ circle() - 원 그리기<br> \n",
    "○ rectangle() - 사각형 그리기<br> \n",
    "○ ellipse() - 타원 그리기<br> \n",
    "○ putText() - 문자 출력<br>\n",
    "\n",
    "○ bitwise_not() : 반전 연산<br>\n",
    "○ bitwise_and() : AND 연산<br>\n",
    "○ add() : 2개 이미지 합치기<br>         \n",
    "        </font></td></tr>   \n",
    "</table>"
   ]
  }
 ],
 "metadata": {
  "colab": {
   "collapsed_sections": [
    "LTU9kbKtcJ0a"
   ],
   "name": "DL008_02_OpenCV.ipynb",
   "provenance": []
  },
  "hide_input": false,
  "kernelspec": {
   "display_name": "Python 3 (ipykernel)",
   "language": "python",
   "name": "python3"
  },
  "language_info": {
   "codemirror_mode": {
    "name": "ipython",
    "version": 3
   },
   "file_extension": ".py",
   "mimetype": "text/x-python",
   "name": "python",
   "nbconvert_exporter": "python",
   "pygments_lexer": "ipython3",
   "version": "3.7.13"
  },
  "toc": {
   "base_numbering": 1,
   "nav_menu": {},
   "number_sections": true,
   "sideBar": true,
   "skip_h1_title": false,
   "title_cell": "Table of Contents",
   "title_sidebar": "Contents",
   "toc_cell": false,
   "toc_position": {},
   "toc_section_display": true,
   "toc_window_display": true
  }
 },
 "nbformat": 4,
 "nbformat_minor": 1
}
